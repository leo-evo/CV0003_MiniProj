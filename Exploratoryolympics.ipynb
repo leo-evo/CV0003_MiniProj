{
 "cells": [
  {
   "cell_type": "code",
   "execution_count": 2,
   "metadata": {},
   "outputs": [],
   "source": [
    "import numpy as np\n",
    "import pandas as pd\n",
    "import seaborn as sb\n",
    "import matplotlib.pyplot as plt \n",
    "sb.set() "
   ]
  },
  {
   "cell_type": "code",
   "execution_count": 3,
   "metadata": {},
   "outputs": [
    {
     "data": {
      "text/html": [
       "<div>\n",
       "<style scoped>\n",
       "    .dataframe tbody tr th:only-of-type {\n",
       "        vertical-align: middle;\n",
       "    }\n",
       "\n",
       "    .dataframe tbody tr th {\n",
       "        vertical-align: top;\n",
       "    }\n",
       "\n",
       "    .dataframe thead th {\n",
       "        text-align: right;\n",
       "    }\n",
       "</style>\n",
       "<table border=\"1\" class=\"dataframe\">\n",
       "  <thead>\n",
       "    <tr style=\"text-align: right;\">\n",
       "      <th></th>\n",
       "      <th>ID</th>\n",
       "      <th>Name</th>\n",
       "      <th>Sex</th>\n",
       "      <th>Age</th>\n",
       "      <th>Height</th>\n",
       "      <th>Weight</th>\n",
       "      <th>Team</th>\n",
       "      <th>NOC</th>\n",
       "      <th>Games</th>\n",
       "      <th>Year</th>\n",
       "      <th>Season</th>\n",
       "      <th>City</th>\n",
       "      <th>Sport</th>\n",
       "      <th>Event</th>\n",
       "      <th>Medal</th>\n",
       "    </tr>\n",
       "  </thead>\n",
       "  <tbody>\n",
       "    <tr>\n",
       "      <th>0</th>\n",
       "      <td>1</td>\n",
       "      <td>A Dijiang</td>\n",
       "      <td>M</td>\n",
       "      <td>24.0</td>\n",
       "      <td>180.0</td>\n",
       "      <td>80.0</td>\n",
       "      <td>China</td>\n",
       "      <td>CHN</td>\n",
       "      <td>1992 Summer</td>\n",
       "      <td>1992</td>\n",
       "      <td>Summer</td>\n",
       "      <td>Barcelona</td>\n",
       "      <td>Basketball</td>\n",
       "      <td>Basketball Men's Basketball</td>\n",
       "      <td>NaN</td>\n",
       "    </tr>\n",
       "    <tr>\n",
       "      <th>1</th>\n",
       "      <td>2</td>\n",
       "      <td>A Lamusi</td>\n",
       "      <td>M</td>\n",
       "      <td>23.0</td>\n",
       "      <td>170.0</td>\n",
       "      <td>60.0</td>\n",
       "      <td>China</td>\n",
       "      <td>CHN</td>\n",
       "      <td>2012 Summer</td>\n",
       "      <td>2012</td>\n",
       "      <td>Summer</td>\n",
       "      <td>London</td>\n",
       "      <td>Judo</td>\n",
       "      <td>Judo Men's Extra-Lightweight</td>\n",
       "      <td>NaN</td>\n",
       "    </tr>\n",
       "    <tr>\n",
       "      <th>2</th>\n",
       "      <td>3</td>\n",
       "      <td>Gunnar Nielsen Aaby</td>\n",
       "      <td>M</td>\n",
       "      <td>24.0</td>\n",
       "      <td>NaN</td>\n",
       "      <td>NaN</td>\n",
       "      <td>Denmark</td>\n",
       "      <td>DEN</td>\n",
       "      <td>1920 Summer</td>\n",
       "      <td>1920</td>\n",
       "      <td>Summer</td>\n",
       "      <td>Antwerpen</td>\n",
       "      <td>Football</td>\n",
       "      <td>Football Men's Football</td>\n",
       "      <td>NaN</td>\n",
       "    </tr>\n",
       "    <tr>\n",
       "      <th>3</th>\n",
       "      <td>4</td>\n",
       "      <td>Edgar Lindenau Aabye</td>\n",
       "      <td>M</td>\n",
       "      <td>34.0</td>\n",
       "      <td>NaN</td>\n",
       "      <td>NaN</td>\n",
       "      <td>Denmark/Sweden</td>\n",
       "      <td>DEN</td>\n",
       "      <td>1900 Summer</td>\n",
       "      <td>1900</td>\n",
       "      <td>Summer</td>\n",
       "      <td>Paris</td>\n",
       "      <td>Tug-Of-War</td>\n",
       "      <td>Tug-Of-War Men's Tug-Of-War</td>\n",
       "      <td>Gold</td>\n",
       "    </tr>\n",
       "    <tr>\n",
       "      <th>4</th>\n",
       "      <td>5</td>\n",
       "      <td>Christine Jacoba Aaftink</td>\n",
       "      <td>F</td>\n",
       "      <td>21.0</td>\n",
       "      <td>185.0</td>\n",
       "      <td>82.0</td>\n",
       "      <td>Netherlands</td>\n",
       "      <td>NED</td>\n",
       "      <td>1988 Winter</td>\n",
       "      <td>1988</td>\n",
       "      <td>Winter</td>\n",
       "      <td>Calgary</td>\n",
       "      <td>Speed Skating</td>\n",
       "      <td>Speed Skating Women's 500 metres</td>\n",
       "      <td>NaN</td>\n",
       "    </tr>\n",
       "  </tbody>\n",
       "</table>\n",
       "</div>"
      ],
      "text/plain": [
       "   ID                      Name Sex   Age  Height  Weight            Team  \\\n",
       "0   1                 A Dijiang   M  24.0   180.0    80.0           China   \n",
       "1   2                  A Lamusi   M  23.0   170.0    60.0           China   \n",
       "2   3       Gunnar Nielsen Aaby   M  24.0     NaN     NaN         Denmark   \n",
       "3   4      Edgar Lindenau Aabye   M  34.0     NaN     NaN  Denmark/Sweden   \n",
       "4   5  Christine Jacoba Aaftink   F  21.0   185.0    82.0     Netherlands   \n",
       "\n",
       "   NOC        Games  Year  Season       City          Sport  \\\n",
       "0  CHN  1992 Summer  1992  Summer  Barcelona     Basketball   \n",
       "1  CHN  2012 Summer  2012  Summer     London           Judo   \n",
       "2  DEN  1920 Summer  1920  Summer  Antwerpen       Football   \n",
       "3  DEN  1900 Summer  1900  Summer      Paris     Tug-Of-War   \n",
       "4  NED  1988 Winter  1988  Winter    Calgary  Speed Skating   \n",
       "\n",
       "                              Event Medal  \n",
       "0       Basketball Men's Basketball   NaN  \n",
       "1      Judo Men's Extra-Lightweight   NaN  \n",
       "2           Football Men's Football   NaN  \n",
       "3       Tug-Of-War Men's Tug-Of-War  Gold  \n",
       "4  Speed Skating Women's 500 metres   NaN  "
      ]
     },
     "execution_count": 3,
     "metadata": {},
     "output_type": "execute_result"
    }
   ],
   "source": [
    "olympicsdata = pd.read_csv('athlete_events.csv')\n",
    "olympicsdata.head()"
   ]
  },
  {
   "cell_type": "code",
   "execution_count": 4,
   "metadata": {},
   "outputs": [
    {
     "name": "stdout",
     "output_type": "stream",
     "text": [
      "Data type :  <class 'pandas.core.frame.DataFrame'>\n",
      "Data dims :  (271116, 15)\n"
     ]
    }
   ],
   "source": [
    "print(\"Data type : \", type(olympicsdata))\n",
    "print(\"Data dims : \", olympicsdata.shape)"
   ]
  },
  {
   "cell_type": "code",
   "execution_count": 5,
   "metadata": {},
   "outputs": [
    {
     "name": "stdout",
     "output_type": "stream",
     "text": [
      "ID          int64\n",
      "Name       object\n",
      "Sex        object\n",
      "Age       float64\n",
      "Height    float64\n",
      "Weight    float64\n",
      "Team       object\n",
      "NOC        object\n",
      "Games      object\n",
      "Year        int64\n",
      "Season     object\n",
      "City       object\n",
      "Sport      object\n",
      "Event      object\n",
      "Medal      object\n",
      "dtype: object\n"
     ]
    }
   ],
   "source": [
    "print(olympicsdata.dtypes)"
   ]
  },
  {
   "cell_type": "code",
   "execution_count": 6,
   "metadata": {},
   "outputs": [
    {
     "name": "stdout",
     "output_type": "stream",
     "text": [
      "<class 'pandas.core.frame.DataFrame'>\n",
      "RangeIndex: 271116 entries, 0 to 271115\n",
      "Data columns (total 15 columns):\n",
      "ID        271116 non-null int64\n",
      "Name      271116 non-null object\n",
      "Sex       271116 non-null object\n",
      "Age       261642 non-null float64\n",
      "Height    210945 non-null float64\n",
      "Weight    208241 non-null float64\n",
      "Team      271116 non-null object\n",
      "NOC       271116 non-null object\n",
      "Games     271116 non-null object\n",
      "Year      271116 non-null int64\n",
      "Season    271116 non-null object\n",
      "City      271116 non-null object\n",
      "Sport     271116 non-null object\n",
      "Event     271116 non-null object\n",
      "Medal     39783 non-null object\n",
      "dtypes: float64(3), int64(2), object(10)\n",
      "memory usage: 31.0+ MB\n"
     ]
    }
   ],
   "source": [
    "olympicsdata.info()"
   ]
  },
  {
   "cell_type": "code",
   "execution_count": 7,
   "metadata": {
    "scrolled": true
   },
   "outputs": [
    {
     "name": "stdout",
     "output_type": "stream",
     "text": [
      "Number of Age Types : 75\n",
      "23.0    21875\n",
      "24.0    21720\n",
      "22.0    20814\n",
      "25.0    19707\n",
      "21.0    19164\n",
      "26.0    17675\n",
      "27.0    16025\n",
      "20.0    15258\n",
      "28.0    14043\n",
      "19.0    11643\n",
      "29.0    11463\n",
      "30.0     9488\n",
      "18.0     8152\n",
      "31.0     7559\n",
      "32.0     6246\n",
      "17.0     5376\n",
      "33.0     4800\n",
      "34.0     3985\n",
      "16.0     3852\n",
      "35.0     3133\n",
      "36.0     2503\n",
      "15.0     2203\n",
      "37.0     1953\n",
      "38.0     1612\n",
      "39.0     1405\n",
      "40.0     1210\n",
      "41.0      953\n",
      "42.0      866\n",
      "14.0      837\n",
      "43.0      793\n",
      "        ...  \n",
      "60.0       88\n",
      "59.0       87\n",
      "65.0       84\n",
      "58.0       84\n",
      "57.0       69\n",
      "61.0       68\n",
      "62.0       62\n",
      "69.0       60\n",
      "63.0       56\n",
      "12.0       39\n",
      "71.0       33\n",
      "66.0       31\n",
      "64.0       30\n",
      "70.0       28\n",
      "68.0       25\n",
      "67.0       25\n",
      "72.0       24\n",
      "11.0       13\n",
      "74.0       12\n",
      "73.0        8\n",
      "76.0        7\n",
      "75.0        4\n",
      "80.0        3\n",
      "88.0        3\n",
      "77.0        2\n",
      "81.0        2\n",
      "10.0        1\n",
      "97.0        1\n",
      "96.0        1\n",
      "84.0        1\n",
      "Name: Age, Length: 74, dtype: int64\n"
     ]
    },
    {
     "data": {
      "text/plain": [
       "<seaborn.axisgrid.FacetGrid at 0x2728a8f2128>"
      ]
     },
     "execution_count": 7,
     "metadata": {},
     "output_type": "execute_result"
    },
    {
     "data": {
      "image/png": "[encoded data removed]",
      "text/plain": [
       "<Figure size 576x576 with 1 Axes>"
      ]
     },
     "metadata": {
      "needs_background": "light"
     },
     "output_type": "display_data"
    }
   ],
   "source": [
    "# Age types in the Dataset\n",
    "print(\"Number of Age Types :\", len(olympicsdata[\"Age\"].unique()))\n",
    "\n",
    "# Athletes of each Age Type\n",
    "print(olympicsdata[\"Age\"].value_counts())\n",
    "sb.catplot(y = \"Age\", data = olympicsdata, kind = \"count\", height = 8)"
   ]
  },
  {
   "cell_type": "code",
   "execution_count": 8,
   "metadata": {},
   "outputs": [
    {
     "name": "stdout",
     "output_type": "stream",
     "text": [
      "Number of Height Types : 96\n",
      "180.0    12492\n",
      "170.0    11976\n",
      "178.0    10708\n",
      "175.0    10320\n",
      "183.0     8284\n",
      "168.0     8211\n",
      "173.0     7843\n",
      "172.0     7813\n",
      "165.0     7246\n",
      "185.0     6839\n",
      "176.0     6432\n",
      "182.0     6310\n",
      "174.0     6085\n",
      "167.0     5579\n",
      "177.0     4913\n",
      "188.0     4743\n",
      "160.0     4700\n",
      "171.0     4588\n",
      "186.0     4502\n",
      "181.0     4437\n",
      "190.0     4403\n",
      "184.0     4360\n",
      "163.0     4347\n",
      "169.0     4275\n",
      "179.0     4002\n",
      "162.0     3993\n",
      "164.0     3911\n",
      "166.0     3618\n",
      "187.0     3448\n",
      "193.0     2321\n",
      "         ...  \n",
      "143.0       77\n",
      "207.0       65\n",
      "210.0       64\n",
      "140.0       60\n",
      "213.0       53\n",
      "211.0       51\n",
      "139.0       48\n",
      "209.0       47\n",
      "136.0       28\n",
      "141.0       25\n",
      "138.0       20\n",
      "215.0       19\n",
      "212.0       19\n",
      "137.0       18\n",
      "214.0       16\n",
      "135.0       14\n",
      "218.0       13\n",
      "216.0       12\n",
      "217.0       11\n",
      "132.0        9\n",
      "127.0        7\n",
      "220.0        6\n",
      "133.0        6\n",
      "221.0        4\n",
      "223.0        4\n",
      "226.0        3\n",
      "219.0        2\n",
      "131.0        2\n",
      "130.0        2\n",
      "128.0        1\n",
      "Name: Height, Length: 95, dtype: int64\n"
     ]
    },
    {
     "data": {
      "text/plain": [
       "<seaborn.axisgrid.FacetGrid at 0x2728af7bfd0>"
      ]
     },
     "execution_count": 8,
     "metadata": {},
     "output_type": "execute_result"
    },
    {
     "data": {
      "image/png": "[encoded data removed]",
      "text/plain": [
       "<Figure size 576x576 with 1 Axes>"
      ]
     },
     "metadata": {
      "needs_background": "light"
     },
     "output_type": "display_data"
    }
   ],
   "source": [
    "# Height types in the Dataset\n",
    "print(\"Number of Height Types :\", len(olympicsdata[\"Height\"].unique()))\n",
    "\n",
    "# Athletes of each Height Type\n",
    "print(olympicsdata[\"Height\"].value_counts())\n",
    "sb.catplot(y = \"Height\", data = olympicsdata, kind = \"count\", height = 8)"
   ]
  },
  {
   "cell_type": "code",
   "execution_count": 9,
   "metadata": {},
   "outputs": [
    {
     "name": "stdout",
     "output_type": "stream",
     "text": [
      "Number of Medal Types : 4\n",
      "Gold      13372\n",
      "Bronze    13295\n",
      "Silver    13116\n",
      "Name: Medal, dtype: int64\n"
     ]
    },
    {
     "data": {
      "text/plain": [
       "<seaborn.axisgrid.FacetGrid at 0x2728ffbc518>"
      ]
     },
     "execution_count": 9,
     "metadata": {},
     "output_type": "execute_result"
    },
    {
     "data": {
      "image/png": "[encoded data removed]",
      "text/plain": [
       "<Figure size 576x576 with 1 Axes>"
      ]
     },
     "metadata": {
      "needs_background": "light"
     },
     "output_type": "display_data"
    }
   ],
   "source": [
    "# Season types in the Dataset\n",
    "print(\"Number of Medal Types :\", len(olympicsdata[\"Medal\"].unique()))\n",
    "\n",
    "# Athletes of each Season Type\n",
    "print(olympicsdata[\"Medal\"].value_counts())\n",
    "sb.catplot(y = \"Medal\", data = olympicsdata, kind = \"count\", height = 8)"
   ]
  }
 ],
 "metadata": {
  "kernelspec": {
   "display_name": "Python 3",
   "language": "python",
   "name": "python3"
  },
  "language_info": {
   "codemirror_mode": {
    "name": "ipython",
    "version": 3
   },
   "file_extension": ".py",
   "mimetype": "text/x-python",
   "name": "python",
   "nbconvert_exporter": "python",
   "pygments_lexer": "ipython3",
   "version": "3.7.1"
  }
 },
 "nbformat": 4,
 "nbformat_minor": 2
}
