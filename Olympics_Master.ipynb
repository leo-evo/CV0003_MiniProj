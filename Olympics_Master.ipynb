{
 "cells": [
  {
   "cell_type": "code",
   "execution_count": 1,
   "metadata": {},
   "outputs": [],
   "source": [
    "global np, pd, sb, plt, LinearRegression, train_test_split, mean_squared_error\n",
    "\n",
    "import numpy as np\n",
    "import pandas as pd\n",
    "import seaborn as sb\n",
    "import matplotlib.pyplot as plt\n",
    "sb.set()\n",
    "from sklearn.linear_model  import LinearRegression\n",
    "from sklearn.model_selection import train_test_split\n",
    "from sklearn.metrics import mean_squared_error"
   ]
  },
  {
   "cell_type": "code",
   "execution_count": null,
   "metadata": {},
   "outputs": [],
   "source": [
    "# Sets dataframe of single variables.\n",
    "# Inputs: dataset = variable name of main datasets; var = variable name of variable to be explored.\n",
    "def olympics_var(dataset, var):\n",
    "    i = pd.DataFrame(dataset[var])\n",
    "    print(dataset[var].head())\n",
    "    print(dataset[var].dtypes)\n",
    "    print(len([var]))\n",
    "    print(dataset[var].unique())\n",
    "    if dataset[var].dtypes == \"int64\" or \"float64\":\n",
    "        j = i.dropna()\n",
    "        f, axes = plt.subplots(4, 1, figsize=(18, 18))\n",
    "        sb.catplot(x = var, data = j, kind = 'count', height = 8, ax = axes[0])\n",
    "        sb.boxplot(y = var, data = j, orient = \"h\", color = 'r', ax = axes[1])\n",
    "        sb.distplot(j, color = 'g', ax = axes[2])\n",
    "        sb.violinplot(x = var, data = j, color = 'b', ax = axes[3])\n",
    "    return i"
   ]
  },
  {
   "cell_type": "code",
   "execution_count": null,
   "metadata": {},
   "outputs": [],
   "source": [
    "# # Sets dataframe of single variables.\n",
    "# # Inputs: dataset = variable name of main datasets; var = variable name of variable to be explored.\n",
    "\n",
    "## Testing code for multi-variables\n",
    "\n",
    "# def olympics_var(dataset, var):\n",
    "#     i = pd.DataFrame(dataset[var])\n",
    "#     print(dataset[var].head())\n",
    "#     print(dataset[var].dtypes)\n",
    "#     print(len([var]))\n",
    "#     if len([var]) == 1:\n",
    "#         print(dataset[var].unique())\n",
    "#         if dataset[var].dtypes == \"int64\" or \"float64\":\n",
    "#             j = i.dropna()\n",
    "#             f, axes = plt.subplots(4, 1, figsize=(18, 18))\n",
    "#             sb.catplot(x = var, data = j, kind = 'count', height = 8, ax = axes[0])\n",
    "#             sb.boxplot(y = var, data = j, orient = \"h\", color = 'r', ax = axes[1])\n",
    "#             sb.distplot(j, color = 'g', ax = axes[2])\n",
    "#             sb.violinplot(x = var, data = j, color = 'b', ax = axes[3])\n",
    "#     return i"
   ]
  },
  {
   "cell_type": "code",
   "execution_count": null,
   "metadata": {},
   "outputs": [],
   "source": [
    "# Calculates BMI from 2 single variables\n",
    "def bmi(weight, height):\n",
    "    bmi = pd.DataFrame(data = weight.values / ((height.values/100) * (height.values/100)), columns = ['BMI'])\n",
    "    print(bmi.head(15))\n",
    "    return bmi"
   ]
  },
  {
   "cell_type": "code",
   "execution_count": null,
   "metadata": {},
   "outputs": [],
   "source": []
  },
  {
   "cell_type": "markdown",
   "metadata": {},
   "source": [
    "### CODE TESTING ###\n",
    "### Testing GitHub for changes ###"
   ]
  },
  {
   "cell_type": "code",
   "execution_count": null,
   "metadata": {
    "scrolled": true
   },
   "outputs": [],
   "source": [
    "# events = pd.read_csv('athlete_events.csv')\n",
    "# print(events.dtypes)\n",
    "# print(events.head())"
   ]
  },
  {
   "cell_type": "code",
   "execution_count": null,
   "metadata": {
    "scrolled": true
   },
   "outputs": [],
   "source": [
    "# x = olympics_var(events, \"Age\")\n",
    "# x.head()"
   ]
  },
  {
   "cell_type": "code",
   "execution_count": null,
   "metadata": {
    "scrolled": true
   },
   "outputs": [],
   "source": [
    "# y = olympics_var(events, \"Weight\")\n",
    "# y.head()"
   ]
  },
  {
   "cell_type": "code",
   "execution_count": null,
   "metadata": {
    "scrolled": true
   },
   "outputs": [],
   "source": [
    "# z = olympics_var(events, \"Height\")\n",
    "# z.head()"
   ]
  },
  {
   "cell_type": "code",
   "execution_count": null,
   "metadata": {},
   "outputs": [],
   "source": [
    "# bmi(y,z)"
   ]
  },
  {
   "cell_type": "code",
   "execution_count": null,
   "metadata": {},
   "outputs": [],
   "source": [
    "# if events[\"Age\"].dtypes == \"int64\" or \"float64\":\n",
    "#     print(\"Y\")\n",
    "\n",
    "# events_city = pd.DataFrame(events[\"Age\"])\n",
    "# # print(events_city.head())\n",
    "# # print(events_city.dtypes)\n",
    "# # print(events_city.info())\n",
    "# # print(events_city.isna().sum())\n",
    "# print(type(events_city))\n",
    "# events_test = events_city.dropna()\n",
    "# f, axes = plt.subplots(4, 1, figsize=(18, 18))\n",
    "# sb.catplot(x = \"Age\", data = events_test, kind = 'count', height = 8, ax = axes[0])\n",
    "# sb.boxplot(y = \"Age\", data = events_test, orient = \"h\", color = 'r', ax = axes[1])\n",
    "# sb.distplot(events_test, color = 'g', ax = axes[2])\n",
    "# sb.violinplot(x = \"Age\", data = events_test, color = 'b', ax = axes[3])"
   ]
  },
  {
   "cell_type": "code",
   "execution_count": null,
   "metadata": {},
   "outputs": [],
   "source": [
    "# medals = olympics_var(events, \"Medal\")\n",
    "# print(medals.isna().sum())\n",
    "\n",
    "# for i in events[\"Medal\"].value():\n",
    "#     newlist = list()\n",
    "#     if i != \"Nan\":\n",
    "#         newlist.append(i)\n",
    "#     else:\n",
    "#         pass\n",
    "# print(newlist)"
   ]
  },
  {
   "cell_type": "code",
   "execution_count": null,
   "metadata": {},
   "outputs": [],
   "source": [
    "# print(medals.dtypes)\n",
    "# print(medals.isna().sum())\n",
    "# print(medals.head(100))"
   ]
  }
 ],
 "metadata": {
  "kernelspec": {
   "display_name": "Python 3",
   "language": "python",
   "name": "python3"
  },
  "language_info": {
   "codemirror_mode": {
    "name": "ipython",
    "version": 3
   },
   "file_extension": ".py",
   "mimetype": "text/x-python",
   "name": "python",
   "nbconvert_exporter": "python",
   "pygments_lexer": "ipython3",
   "version": "3.7.4"
  }
 },
 "nbformat": 4,
 "nbformat_minor": 2
}
