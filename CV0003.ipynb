{
 "cells": [
  {
   "cell_type": "code",
   "execution_count": null,
   "metadata": {},
   "outputs": [],
   "source": [
    "# xfu0008@ntu.edu.sg\n",
    "# Fu Xian Xu"
   ]
  },
  {
   "cell_type": "code",
   "execution_count": 20,
   "metadata": {},
   "outputs": [],
   "source": [
    "# class dataframe(object):\n",
    "#     def __init__(self, name, var):\n",
    "#         self.name = name\n",
    "#         self.var = var\n",
    "#     def dataset(name):\n",
    "#         x = pd.read_csv(self.name + '.csv')\n",
    "#         return x\n",
    "#     def variable(var):\n",
    "#         y = pd.DataFrame(x[self.var])\n",
    "#         return y\n"
   ]
  },
  {
   "cell_type": "code",
   "execution_count": 22,
   "metadata": {},
   "outputs": [],
   "source": [
    "import numpy as np\n",
    "import pandas as pd\n",
    "import seaborn as sb\n",
    "import matplotlib.pyplot as plt \n",
    "sb.set() "
   ]
  },
  {
   "cell_type": "code",
   "execution_count": 23,
   "metadata": {},
   "outputs": [],
   "source": [
    "def olympics_var(var):\n",
    "    x = pd.DataFrame(abalone_data[var])\n",
    "    f, axes = plt.subplots(1, 3, figsize=(18, 6))\n",
    "    sb.boxplot(x, orient = \"h\", color = 'r', ax = axes[0])\n",
    "    sb.distplot(x, color = 'g', ax = axes[1])\n",
    "    sb.violinplot(x, color = 'b', ax = axes[2])\n",
    "    return x"
   ]
  },
  {
   "cell_type": "code",
   "execution_count": 12,
   "metadata": {},
   "outputs": [],
   "source": [
    "def bmi(weight, height):\n",
    "    bmi = pd.DataFrame(data = weight.values / (height.values * height.values), columns = ['BMI'])\n",
    "    print(bmi.head(15))\n",
    "    return bmi\n"
   ]
  }
 ],
 "metadata": {
  "kernelspec": {
   "display_name": "Python 3",
   "language": "python",
   "name": "python3"
  },
  "language_info": {
   "codemirror_mode": {
    "name": "ipython",
    "version": 3
   },
   "file_extension": ".py",
   "mimetype": "text/x-python",
   "name": "python",
   "nbconvert_exporter": "python",
   "pygments_lexer": "ipython3",
   "version": "3.7.1"
  }
 },
 "nbformat": 4,
 "nbformat_minor": 2
}
